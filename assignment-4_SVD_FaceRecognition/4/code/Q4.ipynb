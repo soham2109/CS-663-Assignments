{
 "cells": [
  {
   "cell_type": "code",
   "execution_count": 1,
   "metadata": {},
   "outputs": [],
   "source": [
    "import glob\n",
    "import numpy as np\n",
    "import matplotlib.pyplot as plt\n",
    "import cv2\n",
    "import os"
   ]
  },
  {
   "cell_type": "code",
   "execution_count": 2,
   "metadata": {},
   "outputs": [
    {
     "name": "stdout",
     "output_type": "stream",
     "text": [
      "(192, 10304)\n",
      "(128, 10304)\n"
     ]
    }
   ],
   "source": [
    "ORL_PATH = \"../../ORL\"\n",
    "train_image_array = []\n",
    "train_image_labels = []\n",
    "test_image_array = []\n",
    "test_image_labels = []\n",
    "mean_image = []\n",
    "\n",
    "def im2double(im):\n",
    "    min_val = np.min(im)\n",
    "    max_val = np.max(im)\n",
    "    out = (im.astype('float') - min_val) / (max_val - min_val)\n",
    "    return out\n",
    "\n",
    "for i in range(1,33):\n",
    "    folder_path = os.path.join(ORL_PATH,\"s\"+str(i))\n",
    "    for j in range(1,7):\n",
    "        filepath = os.path.join(folder_path,str(j)+\".pgm\")\n",
    "        im = cv2.imread(filepath,0)\n",
    "        train_image_array.append(im2double(im).ravel())\n",
    "        train_image_labels.append(\"s\"+str(i))\n",
    "        \n",
    "train_image_array = np.array(train_image_array)\n",
    "print(train_image_array.shape)\n",
    "\n",
    "for i in range(1,33):\n",
    "    folder_path = os.path.join(ORL_PATH,\"s\"+str(i))\n",
    "    for j in range(7,11):\n",
    "        filepath = os.path.join(folder_path,str(j)+\".pgm\")\n",
    "        im = cv2.imread(filepath,0)\n",
    "        test_image_array.append(im2double(im).ravel())\n",
    "        test_image_labels.append(\"s\"+str(i))\n",
    "        \n",
    "test_image_array = np.array(test_image_array)\n",
    "print(test_image_array.shape)       "
   ]
  },
  {
   "cell_type": "code",
   "execution_count": 3,
   "metadata": {},
   "outputs": [
    {
     "name": "stdout",
     "output_type": "stream",
     "text": [
      "(192, 192)\n"
     ]
    }
   ],
   "source": [
    "#train_mean = np.mean(train_image_array,axis=0)\n",
    "train_mean = np.zeros(train_image_array.shape[1])\n",
    "for i in range(train_image_array.shape[0]):\n",
    "    train_mean = train_mean + train_image_array[i,:]\n",
    "\n",
    "train_mean = train_mean*1.0/train_image_array.shape[0]\n",
    "    \n",
    "#print(train_mean.shape)\n",
    "train_image_array_mean = train_image_array - train_mean\n",
    "#print(train_image_array_mean+train_mean == train_image_array)\n",
    "\n",
    "L_train = np.matmul(train_image_array_mean,train_image_array_mean.T)\n",
    "print(L_train.shape)"
   ]
  },
  {
   "cell_type": "code",
   "execution_count": 4,
   "metadata": {},
   "outputs": [
    {
     "name": "stdout",
     "output_type": "stream",
     "text": [
      "(192, 192)\n",
      "(192,)\n"
     ]
    }
   ],
   "source": [
    "eig_val,W = np.linalg.eig(L_train)\n",
    "print(W.shape)\n",
    "print(eig_val.shape)"
   ]
  },
  {
   "cell_type": "code",
   "execution_count": 5,
   "metadata": {},
   "outputs": [
    {
     "name": "stdout",
     "output_type": "stream",
     "text": [
      "[[ 1.00000000e+00 -4.20084974e-15  3.53835884e-14 ...  3.03077875e-15\n",
      "  -1.40431286e-14  1.27528196e-14]\n",
      " [-4.20084974e-15  1.00000000e+00  6.27102537e-16 ...  2.71484224e-15\n",
      "  -8.17908566e-15 -6.87817858e-16]\n",
      " [ 3.53835884e-14  6.27102537e-16  1.00000000e+00 ... -8.79591538e-15\n",
      "   7.55103445e-15  8.04347908e-15]\n",
      " ...\n",
      " [ 3.03077875e-15  2.71484224e-15 -8.79591538e-15 ...  1.00000000e+00\n",
      "  -5.00982719e-15 -4.16333634e-16]\n",
      " [-1.40431286e-14 -8.17908566e-15  7.55103445e-15 ... -5.00982719e-15\n",
      "   1.00000000e+00 -3.91098829e-15]\n",
      " [ 1.27528196e-14 -6.87817858e-16  8.04347908e-15 ... -4.16333634e-16\n",
      "  -3.91098829e-15  1.00000000e+00]]\n"
     ]
    }
   ],
   "source": [
    "print(np.matmul(W,W.T))"
   ]
  },
  {
   "cell_type": "code",
   "execution_count": 6,
   "metadata": {},
   "outputs": [
    {
     "name": "stdout",
     "output_type": "stream",
     "text": [
      "(10304, 192)\n"
     ]
    }
   ],
   "source": [
    "V = np.matmul(train_image_array_mean.T,W)\n",
    "_,c = V.shape\n",
    "for i in range(c):\n",
    "    V[:,i] = V[:,i]/(np.sqrt(np.sum(np.square(V[:,i]))))\n",
    "\n",
    "print(V.shape)\n",
    "#print(np.linalg.norm(V[:,2]))"
   ]
  },
  {
   "cell_type": "code",
   "execution_count": 7,
   "metadata": {},
   "outputs": [
    {
     "name": "stdout",
     "output_type": "stream",
     "text": [
      "Shape of alpha  (192, 192)\n"
     ]
    }
   ],
   "source": [
    "alpha = np.dot(V.T,train_image_array_mean.T)\n",
    "print(\"Shape of alpha \",alpha.shape)\n",
    "alpha_1 = alpha.T[0]\n",
    "#print(alpha_1)"
   ]
  },
  {
   "cell_type": "code",
   "execution_count": 8,
   "metadata": {},
   "outputs": [
    {
     "name": "stdout",
     "output_type": "stream",
     "text": [
      "alpha_test shape  (192, 128)\n"
     ]
    }
   ],
   "source": [
    "test_image_array_mean = test_image_array - train_mean\n",
    "alpha_test = np.matmul(V.T,test_image_array_mean.T)\n",
    "print(\"alpha_test shape \",alpha_test.shape)\n",
    "\n",
    "# Project each image on eigen-space and find the closest image in terms of minimum squared difference of alpha_test and other alphas.\n",
    "ks = [1, 2, 3, 5, 10, 15, 20, 30, 50, 75, 100, 150, 170]\n",
    "prediction_rate = [] #for each k\n",
    "\n",
    "#pick one group from the test set and compare each element of it with the other group\n",
    "for k in ks:\n",
    "    correct_prediction_count = 0\n",
    "    for counter, ele in enumerate(alpha_test.T):\n",
    "        temp_diff_alphas = []\n",
    "        for i, a in enumerate(alpha.T):\n",
    "            alpha_test_padded = np.pad(alpha_test.T[counter][0:k],(0,alpha.shape[1]-k),\"constant\",constant_values=(0,0))\n",
    "            temp_diff_alphas.append(np.sum( np.square(alpha.T[i] - alpha_test_padded )))\n",
    "        index = np.argmin(temp_diff_alphas)\n",
    "        if (counter//4 == index//6):\n",
    "            correct_prediction_count += 1\n",
    "    prediction_rate.append(correct_prediction_count/float(test_image_array_mean.shape[0]))"
   ]
  },
  {
   "cell_type": "code",
   "execution_count": 9,
   "metadata": {},
   "outputs": [
    {
     "data": {
      "image/png": "[encoded data removed]",
      "text/plain": [
       "<Figure size 432x288 with 1 Axes>"
      ]
     },
     "metadata": {
      "needs_background": "light"
     },
     "output_type": "display_data"
    }
   ],
   "source": [
    "plt.plot(ks,prediction_rate,\"bo\")\n",
    "plt.plot(ks,prediction_rate,alpha=0.7,linestyle='dashed')\n",
    "#plt.axis([0, 1, 0, 200]) # range of x and y axis\n",
    "plt.ylabel('Prediction Rate')\n",
    "plt.xlabel('Values of k')\n",
    "plt.grid()\n",
    "plt.show()"
   ]
  },
  {
   "cell_type": "code",
   "execution_count": 10,
   "metadata": {},
   "outputs": [
    {
     "name": "stdout",
     "output_type": "stream",
     "text": [
      "736.1785403498792\n"
     ]
    }
   ],
   "source": [
    "#alpha_test_padded = np.pad(alpha_test.T[counter][0:k],(0,alpha.shape[1]-k),\"constant\",constant_values=(0,0))\n",
    "#print(alpha_test_padded)\n",
    "print(np.sum(np.square(alpha_test.T[counter]-alpha.T[counter])))"
   ]
  },
  {
   "cell_type": "code",
   "execution_count": 11,
   "metadata": {},
   "outputs": [
    {
     "name": "stdout",
     "output_type": "stream",
     "text": [
      "(192, 10304)\n",
      "(10304, 192)\n"
     ]
    }
   ],
   "source": [
    "# SVD \n",
    "print(train_image_array_mean.shape)\n",
    "U,sigma,V_T = np.linalg.svd(train_image_array_mean.T,full_matrices=False)\n",
    "print(U.shape)"
   ]
  },
  {
   "cell_type": "code",
   "execution_count": 12,
   "metadata": {},
   "outputs": [],
   "source": [
    "_,c = U.shape\n",
    "for i in range(c):\n",
    "    U[:,i] = U[:,i]/(np.sqrt(np.sum(np.square(U[:,i]))))"
   ]
  },
  {
   "cell_type": "code",
   "execution_count": 13,
   "metadata": {},
   "outputs": [
    {
     "name": "stdout",
     "output_type": "stream",
     "text": [
      "Shape of alpha  (192, 192)\n"
     ]
    }
   ],
   "source": [
    "#print(np.matmul(U,U.T))\n",
    "alpha_svd =np.matmul(U.T,train_image_array_mean.T)\n",
    "print(\"Shape of alpha \",alpha_svd.shape)\n",
    "alpha_1_svd = alpha_svd.T[0]"
   ]
  },
  {
   "cell_type": "code",
   "execution_count": 14,
   "metadata": {},
   "outputs": [
    {
     "name": "stdout",
     "output_type": "stream",
     "text": [
      "alpha_test shape  (192, 128)\n"
     ]
    }
   ],
   "source": [
    "alpha_svd_test = np.matmul(U.T,test_image_array_mean.T)\n",
    "print(\"alpha_test shape \",alpha_svd_test.shape)"
   ]
  },
  {
   "cell_type": "code",
   "execution_count": 15,
   "metadata": {},
   "outputs": [],
   "source": [
    "ks = [1, 2, 3, 5, 10, 15, 20, 30, 50, 75, 100, 150, 170]\n",
    "prediction_rate = [] #for each k\n",
    "\n",
    "#pick one group from the test set and compare each element of it with the other group\n",
    "for k in ks:\n",
    "    correct_prediction_count = 0\n",
    "    for counter, ele in enumerate(alpha_test.T):\n",
    "        temp_diff_alphas = []\n",
    "        for i, a in enumerate(alpha.T):\n",
    "            alpha_test_padded = np.pad(alpha_test.T[counter][0:k],(0,alpha.shape[1]-k),\"constant\",constant_values=(0,0))\n",
    "            temp_diff_alphas.append(np.sum( np.square(alpha.T[i] - alpha_test_padded )))\n",
    "        index = np.argmin(temp_diff_alphas)\n",
    "        if (counter//4 == index//6):\n",
    "            correct_prediction_count += 1\n",
    "    prediction_rate.append(correct_prediction_count/float(test_image_array_mean.shape[0]))"
   ]
  },
  {
   "cell_type": "code",
   "execution_count": 16,
   "metadata": {},
   "outputs": [
    {
     "data": {
      "image/png": "[encoded data removed]",
      "text/plain": [
       "<Figure size 432x288 with 1 Axes>"
      ]
     },
     "metadata": {
      "needs_background": "light"
     },
     "output_type": "display_data"
    }
   ],
   "source": [
    "plt.plot(ks,prediction_rate,\"bo\")\n",
    "plt.plot(ks,prediction_rate,alpha=0.7,linestyle='dashed')\n",
    "#plt.axis([0, 1, 0, 200]) # range of x and y axis\n",
    "plt.ylabel('Prediction Rate')\n",
    "plt.xlabel('Values of k')\n",
    "plt.grid()\n",
    "plt.show()"
   ]
  },
  {
   "cell_type": "code",
   "execution_count": 17,
   "metadata": {},
   "outputs": [
    {
     "name": "stdout",
     "output_type": "stream",
     "text": [
      "(1520, 32256)\n",
      "(895, 32256)\n"
     ]
    }
   ],
   "source": [
    "YALE_PATH = \"../../CroppedYale\"\n",
    "train_image_array = []\n",
    "train_image_labels = []\n",
    "test_image_array = []\n",
    "test_image_labels = []\n",
    "mean_image = []\n",
    "\n",
    "def im2double(im):\n",
    "    min_val = np.min(im)\n",
    "    max_val = np.max(im)\n",
    "    out = (im.astype('float') - min_val) / (max_val - min_val)\n",
    "    return out\n",
    "\n",
    "folder_list = os.listdir(YALE_PATH)\n",
    "for i in folder_list:\n",
    "    folder_path = os.path.join(YALE_PATH,i)\n",
    "    files = os.listdir(folder_path)\n",
    "    for j in files[:40]:\n",
    "        filepath = os.path.join(folder_path,j)\n",
    "        im = cv2.imread(filepath,0)\n",
    "        train_image_array.append(im2double(im).ravel())\n",
    "        train_image_labels.append(i[-2:])\n",
    "        \n",
    "train_image_array = np.array(train_image_array)\n",
    "print(train_image_array.shape)\n",
    "\n",
    "for i in folder_list:\n",
    "    folder_path = os.path.join(YALE_PATH,i)\n",
    "    files = os.listdir(folder_path)\n",
    "    for j in files[40:]:\n",
    "        filepath = os.path.join(folder_path,j)\n",
    "        im = cv2.imread(filepath,0)\n",
    "        test_image_array.append(im2double(im).ravel())\n",
    "        test_image_labels.append(i[-2:])\n",
    "        \n",
    "test_image_array = np.array(test_image_array)\n",
    "print(test_image_array.shape)       "
   ]
  },
  {
   "cell_type": "code",
   "execution_count": null,
   "metadata": {},
   "outputs": [],
   "source": [
    "\n",
    "train_mean = np.zeros(train_image_array.shape[1])\n",
    "for i in range(train_image_array.shape[0]):\n",
    "    train_mean = train_mean + train_image_array[i,:]\n",
    "\n",
    "train_mean = train_mean*1.0/train_image_array.shape[0]\n",
    "    \n",
    "#print(train_mean.shape)\n",
    "train_image_array_mean = train_image_array - train_mean\n",
    "#print(train_image_array_mean+train_mean == train_image_array)\n",
    "\n",
    "L_train = np.matmul(train_image_array_mean,train_image_array_mean.T)\n",
    "print(L_train.shape)\n",
    "\n",
    "eig_val,W = np.linalg.eig(L_train)\n",
    "print(W.shape)\n",
    "print(eig_val.shape)\n",
    "\n",
    "V = np.matmul(train_image_array_mean.T,W)\n",
    "_,c = V.shape\n",
    "for i in tqdm(range(c),desc=\"Normalizing V\"):\n",
    "    V[:,i] = V[:,i]/(np.sqrt(np.sum(np.square(V[:,i]))))\n",
    "\n",
    "print(V.shape)\n",
    "\n",
    "alpha = np.dot(V.T,train_image_array_mean.T)\n",
    "print(\"Shape of alpha \",alpha.shape)\n",
    "alpha_1 = alpha.T[0]\n",
    "\n",
    "test_image_array_mean = test_image_array - train_mean\n",
    "alpha_test = np.matmul(V.T,test_image_array_mean.T)\n",
    "print(\"alpha_test shape \",alpha_test.shape)"
   ]
  },
  {
   "cell_type": "code",
   "execution_count": 27,
   "metadata": {},
   "outputs": [
    {
     "name": "stderr",
     "output_type": "stream",
     "text": [
      "k values: 100%|██████████| 15/15 [00:11<00:00,  1.26it/s]\n"
     ]
    }
   ],
   "source": [
    "# Project each image on eigen-space and find the closest image in terms of minimum squared difference of alpha_test and other alphas.\n",
    "from tqdm import tqdm\n",
    "ks = [1, 2, 3, 5, 10, 15, 20, 30, 50, 75, 100, 200, 300, 500, 1000]\n",
    "prediction_rate = [] #for each k\n",
    "\n",
    "#pick one group from the test set and compare each element of it with the other group\n",
    "for k in tqdm(ks,desc=\"k values\"):\n",
    "    correct_prediction_count = 0\n",
    "    for counter, ele in enumerate(alpha_test.T):\n",
    "        temp_diff_alphas = []\n",
    "        #alpha_test_padded = np.pad(alpha_test.T[counter][0:k],(0,alpha.shape[1]-k),\"constant\",constant_values=(0,0))\n",
    "        index = np.argmin(np.sum(np.square((alpha.T[:,3:3+k]-alpha_test.T[counter,3:3+k])),axis=1))\n",
    "#         for i, a in enumerate(alpha.T):\n",
    "#             alpha_test_padded = np.pad(alpha_test.T[counter][0:k],(0,alpha.shape[1]-k),\"constant\",constant_values=(0,0))\n",
    "#             temp_diff_alphas.append(np.sum( np.square(alpha.T[i] - alpha_test_padded )))\n",
    "#         index = np.argmin(temp_diff_alphas)\n",
    "        if (counter//24 == index//40):\n",
    "            correct_prediction_count += 1\n",
    "    prediction_rate.append(correct_prediction_count/float(test_image_array_mean.shape[0]))"
   ]
  },
  {
   "cell_type": "code",
   "execution_count": 28,
   "metadata": {},
   "outputs": [
    {
     "data": {
      "image/png": "[encoded data removed]",
      "text/plain": [
       "<Figure size 432x288 with 1 Axes>"
      ]
     },
     "metadata": {
      "needs_background": "light"
     },
     "output_type": "display_data"
    }
   ],
   "source": [
    "plt.plot(ks,prediction_rate,\"bo\")\n",
    "plt.plot(ks,prediction_rate,alpha=0.7,linestyle='dashed')\n",
    "#plt.axis([0, 1, 0, 200]) # range of x and y axis\n",
    "plt.ylabel('Prediction Rate')\n",
    "plt.xlabel('Values of k')\n",
    "plt.grid()\n",
    "plt.show()"
   ]
  },
  {
   "cell_type": "code",
   "execution_count": 26,
   "metadata": {},
   "outputs": [
    {
     "name": "stdout",
     "output_type": "stream",
     "text": [
      "1487\n",
      "1487\n"
     ]
    }
   ],
   "source": [
    "print(index)\n",
    "alpha_test_padded = np.pad(alpha_test.T[counter][0:k],(0,alpha.shape[1]-k),\"constant\",constant_values=(0,0))\n",
    "index = np.argmin(np.sum(np.square((alpha.T-alpha_test_padded)),axis=1))\n",
    "print(index)"
   ]
  }
 ],
 "metadata": {
  "kernelspec": {
   "display_name": "Python 3",
   "language": "python",
   "name": "python3"
  },
  "language_info": {
   "codemirror_mode": {
    "name": "ipython",
    "version": 3
   },
   "file_extension": ".py",
   "mimetype": "text/x-python",
   "name": "python",
   "nbconvert_exporter": "python",
   "pygments_lexer": "ipython3",
   "version": "3.6.9"
  }
 },
 "nbformat": 4,
 "nbformat_minor": 4
}
