{
 "cells": [
  {
   "cell_type": "code",
   "execution_count": 1,
   "metadata": {},
   "outputs": [],
   "source": [
    "import numpy as np\n",
    "import matplotlib.pyplot as plt\n",
    "import matplotlib.image as mpimg\n",
    "import matplotlib as mpl\n",
    "from numpy import zeros,zeros_like,array\n",
    "from mpl_toolkits.axes_grid1 import ImageGrid"
   ]
  },
  {
   "cell_type": "code",
   "execution_count": 28,
   "metadata": {},
   "outputs": [],
   "source": [
    "from tqdm import tqdm\n",
    "from math import floor\n",
    "import cv2\n",
    "\n",
    "#from numba import njit\n",
    "\n",
    "#@njit\n",
    "def imhist(input_array):\n",
    "    m, n = input_array.shape\n",
    "    h = [0.0] * 256\n",
    "    for i in range(m):\n",
    "        for j in range(n):\n",
    "            h[int(input_array[i, j])]+=1\n",
    "    return np.array(h)/(m*n)\n",
    "\n",
    "#@njit\n",
    "def calcCLAHEVal(input_array,th):\n",
    "    r,c = input_array.shape\n",
    "    H = imhist(input_array)\n",
    "    #plt.figure()\n",
    "    #plt.plot(H,label=\"Histogram before threshold\")\n",
    "    C = zeros_like(H)\n",
    "    for i in range(256):\n",
    "        if H[i] > th:\n",
    "            H[i] = th\n",
    "    contrastArea = 1 - sum(H)\n",
    "    height = contrastArea/256\n",
    "    H = H + height\n",
    "    C[0] = H[0]\n",
    "    \n",
    "    for i in range(1,256):\n",
    "        C[i] = C[i-1] + (H[i])\n",
    "\n",
    "    #plt.plot(H,label=\"Histogram after threshold\")\n",
    "    #plt.plot(C,label = \"CDF\")\n",
    "    #plt.legend()\n",
    "    #plt.show()\n",
    "    return C\n",
    "\n",
    "#@njit\n",
    "def myCLAHE(input_file,window_x,window_y,threshold,cmap):\n",
    "    name = input_file.split(\".\")[2]\n",
    "    input_image = mpimg.imread(input_file)\n",
    "    output_image = zeros_like(input_image)\n",
    "    d=1\n",
    "    if len(input_image.shape)<3:\n",
    "        r,c = input_image.shape\n",
    "    else:\n",
    "        r,c,d = input_image.shape\n",
    "\n",
    "    \n",
    "    if d==1:\n",
    "        new_image = input_image*255\n",
    "        \n",
    "        for i in tqdm(range(r)):\n",
    "            for j in range(c):\n",
    "                min_x = max(0,i-window_x)\n",
    "                min_y = max(0,j-window_y)\n",
    "                max_x = min(r,i+window_x)\n",
    "                max_y = min(c,j+window_y)\n",
    "                \n",
    "                window_image = input_image[min_x:max_x,min_y:max_y]*255\n",
    "                if new_image[i,j]!=0:\n",
    "                    x = calcCLAHEVal(window_image,threshold)\n",
    "                    output_image[i,j] = x[int(new_image[i,j])]\n",
    "                \n",
    "    else:\n",
    "        input_image = cv2.imread(input_file,)\n",
    "        output_lab = np.zeros_like(input_image)\n",
    "        lab_image = cv2.cvtColor(input_image, cv2.COLOR_BGR2LAB)\n",
    "        l_channel,a_channel,b_channel = cv2.split(lab_image)\n",
    "        print(np.max(l_channel))\n",
    "        out_l_channel = l_channel.copy()\n",
    "        \n",
    "        for i in tqdm(range(r)):\n",
    "            for j in range(c):\n",
    "                min_x = max(0,i-window_x)\n",
    "                min_y = max(0,j-window_y)\n",
    "                max_x = min(r,i+window_x)\n",
    "                max_y = min(c,j+window_y)\n",
    "                \n",
    "                window_image = l_channel[min_x:max_x,min_y:max_y]\n",
    "                if out_l_channel[i,j]!=0:\n",
    "                    x = calcCLAHEVal(window_image,threshold)\n",
    "                    out_l_channel[i,j] = x[int(l_channel[i,j])]\n",
    "        \n",
    "        \n",
    "#         new_image = input_image.copy()\n",
    "#         for k in range(d):\n",
    "#             for i in tqdm(range(r)):\n",
    "#                 for j in range(c):\n",
    "#                     new_image[i,j,k] = input_image[i,j,k]*255\n",
    "#                     min_x = max(0,i-window_x)\n",
    "#                     min_y = max(0,j-window_y)\n",
    "#                     max_x = min(r,i+window_x)\n",
    "#                     max_y = min(c,j+window_y)\n",
    "\n",
    "#                     window_image = input_image[min_x:max_x,min_y:max_y,k]*255\n",
    "#                     if new_image[i,j,k]!=0:\n",
    "#                         x = calcCLAHEVal(window_image,threshold)\n",
    "                        \n",
    "#                         output_image[i,j,k] = x[int(new_image[i,j,k])]\n",
    "            output_lab[:,:,0] = out_l_channel\n",
    "            output_lab[:,:,1] = a_channel\n",
    "            output_lab[:,:,2] = b_channel\n",
    "            \n",
    "            output_image = cv2.cvtColor(output_lab,cv2.COLOR_LAB2RGB)\n",
    "            #print(\"Finished looping through dimension : \",k+1)\n",
    "                    \n",
    "#     fig,axes = plt.subplots(1,2, constrained_layout=True, gridspec_kw={'width_ratios':[1,1]})\n",
    "#     axes[0].imshow(input_image,cmap=cmap)\n",
    "#     axes[0].axis(\"on\")\n",
    "#     axes[1].imshow(output_image/255.0,cmap=cmap)\n",
    "#     axes[1].axis(\"on\")\n",
    "#     plt.show()\n",
    "#     plt.imshow(output_image,cmap=cmap)\n",
    "#     plt.axis(\"off\")\n",
    "    #output_image = cv2.cvtColor(output_image,cv2.COLOR_BGR2RGB)\n",
    "    plt.imshow(output_image)\n",
    "#     if d<3:\n",
    "#         plt.imsave(\"..\" + name+\"CLAHE.png\",output_image,cmap=cmap)\n",
    "#     else:\n",
    "#         plt.imsave(\"..\" + name+\"CLAHE.png\",output_image)"
   ]
  },
  {
   "cell_type": "code",
   "execution_count": 13,
   "metadata": {},
   "outputs": [
    {
     "name": "stderr",
     "output_type": "stream",
     "text": [
      "100%|██████████| 512/512 [01:41<00:00,  5.04it/s]\n"
     ]
    }
   ],
   "source": [
    "input_file = \"../data/barbara.png\"\n",
    "myCLAHE(input_file,4,4,0.005,\"gray\")"
   ]
  },
  {
   "cell_type": "code",
   "execution_count": 19,
   "metadata": {},
   "outputs": [
    {
     "name": "stderr",
     "output_type": "stream",
     "text": [
      "100%|██████████| 546/546 [06:11<00:00,  1.47it/s]\n"
     ]
    }
   ],
   "source": [
    "input_file = \"../data/TEM.png\"\n",
    "myCLAHE(input_file,16,16,0.01,\"gray\")"
   ]
  },
  {
   "cell_type": "code",
   "execution_count": 7,
   "metadata": {},
   "outputs": [
    {
     "name": "stderr",
     "output_type": "stream",
     "text": [
      "100%|██████████| 1200/1200 [25:41<00:00,  1.28s/it]\n",
      "  0%|          | 1/1200 [00:01<20:45,  1.04s/it]"
     ]
    },
    {
     "name": "stdout",
     "output_type": "stream",
     "text": [
      "Finished looping through dimension :  1\n"
     ]
    },
    {
     "name": "stderr",
     "output_type": "stream",
     "text": [
      "100%|██████████| 1200/1200 [23:59<00:00,  1.20s/it]\n",
      "  0%|          | 1/1200 [00:01<21:01,  1.05s/it]"
     ]
    },
    {
     "name": "stdout",
     "output_type": "stream",
     "text": [
      "Finished looping through dimension :  2\n"
     ]
    },
    {
     "name": "stderr",
     "output_type": "stream",
     "text": [
      "100%|██████████| 1200/1200 [24:33<00:00,  1.23s/it]\n"
     ]
    },
    {
     "name": "stdout",
     "output_type": "stream",
     "text": [
      "Finished looping through dimension :  3\n"
     ]
    }
   ],
   "source": [
    "input_file = \"../data/church.png\"\n",
    "myCLAHE(input_file,16,16,0.05,\"gray\")"
   ]
  },
  {
   "cell_type": "code",
   "execution_count": 29,
   "metadata": {},
   "outputs": [
    {
     "name": "stderr",
     "output_type": "stream",
     "text": [
      "\r",
      "  0%|          | 0/348 [00:00<?, ?it/s]"
     ]
    },
    {
     "name": "stdout",
     "output_type": "stream",
     "text": [
      "253\n"
     ]
    },
    {
     "name": "stderr",
     "output_type": "stream",
     "text": [
      "100%|██████████| 348/348 [02:02<00:00,  2.85it/s]\n"
     ]
    },
    {
     "data": {
      "image/png": "[encoded data removed]",
      "text/plain": [
       "<Figure size 432x288 with 1 Axes>"
      ]
     },
     "metadata": {
      "needs_background": "light"
     },
     "output_type": "display_data"
    }
   ],
   "source": [
    "input_file = \"../data/canyon.png\"\n",
    "myCLAHE(input_file,8,8,0.015,\"gray\")"
   ]
  }
 ],
 "metadata": {
  "kernelspec": {
   "display_name": "Python 3",
   "language": "python",
   "name": "python3"
  },
  "language_info": {
   "codemirror_mode": {
    "name": "ipython",
    "version": 3
   },
   "file_extension": ".py",
   "mimetype": "text/x-python",
   "name": "python",
   "nbconvert_exporter": "python",
   "pygments_lexer": "ipython3",
   "version": "3.8.2"
  }
 },
 "nbformat": 4,
 "nbformat_minor": 4
}
